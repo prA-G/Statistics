{
 "cells": [
  {
   "cell_type": "markdown",
   "id": "867419a6",
   "metadata": {},
   "source": [
    "# Introduction to Statistics"
   ]
  },
  {
   "cell_type": "markdown",
   "id": "26be816f",
   "metadata": {},
   "source": [
    "Statistics is a mathematical science including methods of collecting, organising and analysing data in a such way that meaningful conclusions can be drawn from them."
   ]
  },
  {
   "cell_type": "markdown",
   "id": "86ea1228",
   "metadata": {},
   "source": [
    "## Why statistics in DataScience?\n",
    "In DS/ML we try to learn pattern in the data."
   ]
  },
  {
   "cell_type": "markdown",
   "id": "9b6e54a2",
   "metadata": {},
   "source": [
    "## Data \n",
    "Data is facts or pieces of information that can be stored, measured and re-accessed.\n",
    "\n",
    "Data is used to bring insights to increase a company revenue.\n",
    "\n",
    "- Collecting from \n",
    "    - portal,\n",
    "    - manually, \n",
    "    - survey, \n",
    "    - internet clicks, \n",
    "    - experiments, \n",
    "    - directly from customers rating and reviews, etc.\n",
    "\n",
    "- Organising from \n",
    "    - database (SQL, NoSQL)\n",
    "    - Reaccess data conveniently\n",
    "\n",
    "- Analysing to\n",
    "    - finding insighths from data\n",
    "    - using NumPy, Pandas, Matplotlib, Seaborn\n",
    "\n",
    "- Examples:\n",
    "    - Scores made by Virat Kohli in T-20 World Cup\n",
    "    - Box Office collection of any movies.\n",
    "    - Demands of product for an ecommerce sites.\n",
    "    - Heights of students in class."
   ]
  },
  {
   "cell_type": "markdown",
   "id": "cdc61946",
   "metadata": {},
   "source": [
    "## Motivation / Uses of Statistics:\n",
    "- Weather Forecast\n",
    "- Sports Analytics\n",
    "- Election Campaign\n",
    "- FMCG (Fast Moving Consumer Good) / E-Commerce Company\n",
    "- Medical / Genetics / Pharmaceuticals"
   ]
  },
  {
   "cell_type": "markdown",
   "id": "150d6cf4",
   "metadata": {},
   "source": [
    "# Types of Statistics:"
   ]
  },
  {
   "cell_type": "markdown",
   "id": "9864663c",
   "metadata": {},
   "source": [
    "1. Descriptive Statistics\n",
    "2. Inferential Statistics"
   ]
  },
  {
   "cell_type": "markdown",
   "id": "d1a1d0be",
   "metadata": {},
   "source": [
    "## Descriptive Statistics\n",
    "`Describe` \n",
    "\n",
    "It consists of organizing and summarizing the complete data/ population.\n",
    "\n",
    "Example : How good Rohit Sharma is as a crickter?\n",
    "\n",
    "All the matches sccore of his entire career--> Calculate Avg Score/ strike rate. \n",
    "\n",
    "**Taking complete data and then go with statistics**\n",
    "\n",
    "### Why?\n",
    "- Whenever you want exact statistics to take any business decision, Go through Descriptive Statistics.\n"
   ]
  },
  {
   "cell_type": "markdown",
   "id": "82055750",
   "metadata": {},
   "source": [
    "But if someone ask for total number of trees og a jungle, or total population of 150 Cr+ weight, or height, we cannot go through each and every data, Here we use Inferential Statistics."
   ]
  },
  {
   "cell_type": "markdown",
   "id": "fe2ef421",
   "metadata": {},
   "source": [
    "## Inferential Statistics\n",
    "\n",
    "`Inference`\n",
    "\n",
    "It consists of using data that has been measured to form conclusion about any informations.\n",
    "\n",
    "With given sample data we can conclude something about informations.\n",
    "\n",
    "Example : Avg weight of Population of India?\n",
    "\n",
    "We take sample of weight of some people which will give insights of avg weight of population of India.\n",
    "\n",
    "### Why?\n",
    "- When data is very much large\n",
    "- Time and resources constraints.\n"
   ]
  },
  {
   "cell_type": "markdown",
   "id": "9bb3151e",
   "metadata": {},
   "source": [
    "## Techniques of descriptive statistics:\n",
    "1. Measures of Central Tendency (Mean, Median, Mode)\n",
    "2. Measure of Symmetricity (Skewness, Kurtosis)\n",
    "3. Measures of Dsipersion (Standard Deviation, Variance)\n",
    "\n"
   ]
  },
  {
   "cell_type": "markdown",
   "id": "15088782",
   "metadata": {},
   "source": []
  }
 ],
 "metadata": {
  "language_info": {
   "name": "python"
  }
 },
 "nbformat": 4,
 "nbformat_minor": 5
}
