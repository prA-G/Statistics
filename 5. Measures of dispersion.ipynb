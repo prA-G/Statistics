{
 "cells": [
  {
   "cell_type": "markdown",
   "id": "8234b17d",
   "metadata": {},
   "source": [
    "# Measures of Dispersion\n",
    "\n",
    "- **Dispersion** tells us how much the data values **spread out** from the center (mean/median).  \n",
    "- While measures of central tendency (mean, median, mode) give a \"center\", **dispersion shows variability**.  \n",
    "- High dispersion = data is spread out.  \n",
    "- Low dispersion = data is closely clustered.  "
   ]
  },
  {
   "cell_type": "markdown",
   "id": "fe27cab0",
   "metadata": {},
   "source": [
    "## Common measures of dispersion:\n",
    "\n",
    "1. Range\n",
    "2. Percentage or percentile\n",
    "3. Quartiles (box plot)\n",
    "4. Variance\n",
    "5. Standard Deviation"
   ]
  },
  {
   "cell_type": "markdown",
   "id": "55836ed2",
   "metadata": {},
   "source": [
    "# 1. *Range*"
   ]
  },
  {
   "cell_type": "markdown",
   "id": "3abcfabf",
   "metadata": {},
   "source": [
    "- The **simplest measure of dispersion**.  \n",
    "- It shows the **difference between the largest and smallest value** in a dataset. "
   ]
  },
  {
   "cell_type": "markdown",
   "id": "bef0254e",
   "metadata": {},
   "source": [
    "{1, 2, 3, 4, 5, 6}\n",
    "\n",
    "Range = 6-1 = 5\n",
    "\n",
    "\n",
    "{1, 2, 3, 4, 5, 1000} Outliers\n",
    "\n",
    "Range = 1000-1 = 999\n",
    "\n",
    "**Example:**\n",
    "- Dataset = [12, 15, 18, 22, 25]\n",
    "    - Maximum Value = 25  \n",
    "    - Minimum Value = 12  \n",
    "    - Range = 25 - 12 = **13**\n",
    "\n",
    "**Key Points:**\n",
    "- Easy to calculate.  \n",
    "- Gives a quick idea of spread.  \n",
    "- **Very sensitive to outliers** (one extreme value can change the range drastically)."
   ]
  },
  {
   "cell_type": "markdown",
   "id": "ad796b15",
   "metadata": {},
   "source": [
    "# 2. *Percentage & Percentile*\n"
   ]
  },
  {
   "cell_type": "markdown",
   "id": "d9120c15",
   "metadata": {},
   "source": [
    "### Percentage**\n",
    "- A **percentage** is a way of expressing a number as a fraction of **100**.  \n",
    "- It is widely used to compare values and show proportions.  \n",
    "\n",
    "### Example 1:\n",
    "- A student scored **45 marks out of 60**.  \n",
    "` Percentage = (45/60)*100 = 75\\% `\n",
    "\n",
    "### Key Points:\n",
    "- Always calculated with respect to a **total/whole**.  \n",
    "- Helpful in **comparisons** (e.g., exam scores, growth rates, discounts).  \n",
    "- Percentage values range between **0% and 100%**."
   ]
  },
  {
   "cell_type": "markdown",
   "id": "6aab8257",
   "metadata": {},
   "source": [
    "### **Percentile**\n",
    "- A **percentile** indicates the value below which a given percentage of data falls.  \n",
    "- It helps to understand the **relative standing** of a value in a dataset. \n",
    "\n",
    "### Formula\n",
    "\n",
    "Percentile = ((No of values below that no.)/(Total nos [n]))*100\n",
    "\n",
    "### Example:\n",
    "Dataset = [10, 20, 30, 40, 50, 60, 70, 80, 90, 100]  \n",
    "\n",
    "- **25th Percentile (P25)** → Value below which 25% of data lies = **30**  \n",
    "- **50th Percentile (P50)** → This is also the **Median** = **55**  \n",
    "- **75th Percentile (P75)** → Value below which 75% of data lies = **80**\n",
    "\n",
    "### Key Points:\n",
    "- **Median** is the 50th percentile.  \n",
    "- **Quartiles** are special percentiles:  \n",
    "  - Q1 = 25th percentile  \n",
    "  - Q2 = 50th percentile (Median)  \n",
    "  - Q3 = 75th percentile  \n",
    "- Percentiles are widely used in **exams, health indicators, and data analysis**.  \n"
   ]
  },
  {
   "cell_type": "markdown",
   "id": "6ce01573",
   "metadata": {},
   "source": [
    "# *Quartiles*\n",
    "\n",
    "- **Quartiles** divide a dataset into **four equal parts** after sorting.  \n",
    "- Each quartile contains **25% of the data**.  \n",
    "- Quartiles are based on **percentiles**:  \n",
    "  - **Q1 (First Quartile / 25th Percentile)** → 25% of data falls below this value.  \n",
    "  - **Q2 (Second Quartile / 50th Percentile / Median)** → 50% of data falls below this value.  \n",
    "  - **Q3 (Third Quartile / 75th Percentile)** → 75% of data falls below this value.  \n",
    "\n",
    "- Methods to find \n",
    "  - Put the number in ascending and descending order\n",
    "  - Then cut the numbers into 4 equal parts.\n",
    "  - The quartiles are at the ends.\n",
    "\n",
    "\n",
    "### Example:\n",
    "Dataset = [6, 7, 8, 10, 12, 13, 15, 16, 20]  \n",
    "\n",
    "- **Q1 (25th percentile)** = 8  \n",
    "- **Q2 (Median / 50th percentile)** = 12  \n",
    "- **Q3 (75th percentile)** = 15  \n",
    "\n",
    "So,  \n",
    "- 25% of data lies below **Q1**  \n",
    "- 50% of data lies below **Q2**  \n",
    "- 75% of data lies below **Q3**\n",
    "\n",
    "\n",
    "### Key Points:\n",
    "- Quartiles are used to measure **spread and variability**.  \n",
    "- Help detect **outliers** (via Interquartile Range, IQR).  \n",
    "- **IQR = Q3 - Q1** → Spread of the middle 50% of the data.  "
   ]
  },
  {
   "cell_type": "markdown",
   "id": "1ecd2567",
   "metadata": {},
   "source": []
  }
 ],
 "metadata": {
  "kernelspec": {
   "display_name": "Python 3",
   "language": "python",
   "name": "python3"
  },
  "language_info": {
   "name": "python",
   "version": "3.13.7"
  }
 },
 "nbformat": 4,
 "nbformat_minor": 5
}
